# notebooks/compare_countries.ipynb
import pandas as pd
import matplotlib.pyplot as plt
import seaborn as sns
from scipy.stats import f_oneway
import os

# Ensure the images directory exists (optional, kept for other plots if needed)
if not os.path.exists('../images'):
    os.makedirs('../images')

# Load cleaned datasets with correct path
try:
    benin_df = pd.read_csv('../data/benin_clean.csv')
    sierraleone_df = pd.read_csv('../data/sierraleone_clean.csv')
    togo_df = pd.read_csv('../data/togo_clean.csv')
except FileNotFoundError as e:
    print(f"Error: {e}. Please ensure the cleaned datasets are in the 'data/' directory.")
    raise

# Add a 'Country' column to each DataFrame
benin_df['Country'] = 'Benin'
sierraleone_df['Country'] = 'Sierra Leone'
togo_df['Country'] = 'Togo'

# Combine the datasets for comparison
combined_df = pd.concat([benin_df, sierraleone_df, togo_df], ignore_index=True)

# Boxplot for GHI, DNI, DHI comparison
plt.figure(figsize=(12, 6))
plt.subplot(1, 3, 1)
sns.boxplot(x='Country', y='GHI', data=combined_df)
plt.title('GHI Comparison')
plt.subplot(1, 3, 2)
sns.boxplot(x='Country', y='DNI', data=combined_df)
plt.title('DNI Comparison')
plt.subplot(1, 3, 3)
sns.boxplot(x='Country', y='DHI', data=combined_df)
plt.title('DHI Comparison')
plt.tight_layout()
plt.show()  # Display the boxplot inline instead of saving

# Summary table for GHI, DNI, DHI (mean, median, std)
summary_stats = combined_df.groupby('Country')[['GHI', 'DNI', 'DHI']].agg(['mean', 'median', 'std']).round(2)
print("Summary Statistics for GHI, DNI, DHI:")
print(summary_stats)

# Bar chart ranking countries by average GHI (displayed inline)
plt.figure(figsize=(6, 4))
avg_ghi = combined_df.groupby('Country')['GHI'].mean().sort_values(ascending=False)
avg_ghi.plot(kind='bar')
plt.title('Average GHI by Country')
plt.xlabel('Country')
plt.ylabel('Average GHI (W/m²)')
plt.xticks(rotation=0)
for i, v in enumerate(avg_ghi):
    plt.text(i, v + 5, f'{v:.2f}', ha='center')
plt.tight_layout()
plt.show()  # Display the bar chart inline instead of saving

# One-way ANOVA for GHI across countries
ghi_benin = benin_df['GHI'].dropna()
ghi_sierraleone = sierraleone_df['GHI'].dropna()
ghi_togo = togo_df['GHI'].dropna()
f_stat, p_value = f_oneway(ghi_benin, ghi_sierraleone, ghi_togo)
print(f"ANOVA for GHI: F-statistic = {f_stat:.2f}, p-value = {p_value:.4f}")

# Key observations in markdown (updated to reflect inline display)
"""
### Key Observations
- Benin and Togo have higher GHI and DNI medians, making them more suitable for solar investments, as shown in the bar chart ranking average GHI displayed above.
- Sierra Leone shows lower GHI and DNI, with more outliers, likely due to higher humidity and cloud cover.
- ANOVA confirms significant differences in GHI across countries (p < 0.05).
"""
